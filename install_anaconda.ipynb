{
 "cells": [
  {
   "cell_type": "markdown",
   "id": "51dfd774-43d4-4f75-abb6-30801b19b3e4",
   "metadata": {},
   "source": [
    "### 安装anaconda"
   ]
  },
  {
   "cell_type": "markdown",
   "id": "9f730429-9ee8-4409-9d64-11dfc3ee39f9",
   "metadata": {
    "tags": []
   },
   "source": [
    "从[Anaconda 镜像](https://mirrors.tuna.tsinghua.edu.cn/help/anaconda/)下载即可，\n",
    "对应的windows的，可以下载[Anaconda3-2024-02](https://mirrors.tuna.tsinghua.edu.cn/anaconda/archive/Anaconda3-2024.02-1-Windows-x86_64.exe)版本\n",
    "由于是清华的源，速度比较快"
   ]
  },
  {
   "cell_type": "markdown",
   "id": "71ff517c-a319-41b1-949e-8246a62fa408",
   "metadata": {},
   "source": [
    "### 安装pytorch-cpu版本"
   ]
  },
  {
   "cell_type": "code",
   "execution_count": 6,
   "id": "d0566f93-bc7a-4ef5-834f-32b0a189c732",
   "metadata": {
    "tags": []
   },
   "outputs": [
    {
     "name": "stdout",
     "output_type": "stream",
     "text": [
      "Looking in indexes: https://pypi.tuna.tsinghua.edu.cn/simple\n",
      "Requirement already satisfied: torch in c:\\users\\jack\\anaconda3\\lib\\site-packages (2.2.1)\n",
      "Requirement already satisfied: filelock in c:\\users\\jack\\anaconda3\\lib\\site-packages (from torch) (3.9.0)\n",
      "Requirement already satisfied: typing-extensions>=4.8.0 in c:\\users\\jack\\anaconda3\\lib\\site-packages (from torch) (4.10.0)\n",
      "Requirement already satisfied: sympy in c:\\users\\jack\\anaconda3\\lib\\site-packages (from torch) (1.11.1)\n",
      "Requirement already satisfied: networkx in c:\\users\\jack\\anaconda3\\lib\\site-packages (from torch) (3.1)\n",
      "Requirement already satisfied: jinja2 in c:\\users\\jack\\anaconda3\\lib\\site-packages (from torch) (3.1.2)\n",
      "Requirement already satisfied: fsspec in c:\\users\\jack\\anaconda3\\lib\\site-packages (from torch) (2023.4.0)\n",
      "Requirement already satisfied: MarkupSafe>=2.0 in c:\\users\\jack\\anaconda3\\lib\\site-packages (from jinja2->torch) (2.1.1)\n",
      "Requirement already satisfied: mpmath>=0.19 in c:\\users\\jack\\anaconda3\\lib\\site-packages (from sympy->torch) (1.3.0)\n"
     ]
    }
   ],
   "source": [
    "!pip install torch -i https://pypi.tuna.tsinghua.edu.cn/simple"
   ]
  },
  {
   "cell_type": "markdown",
   "id": "a38f3b3a-5807-4beb-8ac8-521ca414be32",
   "metadata": {},
   "source": [
    "### Markdown cheatsheet\n",
    "\n",
    "查看这个教程 [Markdown cheatsheet](https://www.ibm.com/docs/en/watsonx-as-a-service?topic=projects-markdown-cheatsheet)"
   ]
  },
  {
   "cell_type": "markdown",
   "id": "b6a381e7-07b0-4e56-94a9-2e7fcf88e9f1",
   "metadata": {
    "tags": []
   },
   "source": [
    "+ Headings: use ```#```\n",
    "+ Emphasis: Bold: ```__string__ or **string**, Italic: _string_ or *string*, Strikethrough: ~~string~~```\n",
    "+ Mathematical symbols: ```Use this code: ```$ mathematical symbols $```\n",
    "+ Monospace font: ```Surround text with a back single quotation mark (`). Use monospace for file path and file names and for text users enter or message text users see.```\n",
    "+ Line breaks: ```Sometimes Markdown doesn’t make line breaks when you want them. Put two spaces at the end of the line, or use this code for a manual line break: <br>```\n",
    "+ Indented quoting: ```Use a greater-than sign (> ) and then a space, then type the text. The text is indented and has a gray horizontal line to the left of it until the next carriage return.```\n",
    "+ Bullets: ```Use the dash sign (- ) with a space after it or a space, a dash, and a space (-), to create a circular bullet. To create a sub bullet, use a tab followed a dash and a space. You can also use an asterisk instead of a dash, and it works the same.```\n",
    "+ Numbered lists: ```Start with 1. followed by a space, then your text. Hit return and numbering is automatic. Start each line with some number and a period, then a space. Tab to indent to get subnumbering.```\n",
    "+ Checkboxes in readme files: ```Use this code for an unchecked box: - [ ] Use this code for a checked box: - [x]```\n",
    "+ Tables in readme files:\n",
    "```\n",
    "| Heading | Heading |\n",
    "| ----| ----|\n",
    "| text   | text |\n",
    "| text | text |\n",
    "```\n",
    "\n",
    "+ Graphics in notebooks: ```Drag and drop images to the Markdown cell to attach it to the notebook. To add images to other cell types, use graphics that are hosted on the web with this code, substituting url/name with the full URL and name of the image: <img src=\"url/filename.gif\" alt=\"Alt text\" title=\"Title text\" />```\n",
    "+ Graphics in readme files: ```Use this code: ![Alt text](url/filename.gif \"Title text\")```\n",
    "\n",
    "\n"
   ]
  },
  {
   "cell_type": "code",
   "execution_count": null,
   "id": "eee908b8-0fab-42dd-a819-ed934f68cd4f",
   "metadata": {},
   "outputs": [],
   "source": [
    "\n",
    "\n",
    "\n",
    "\n",
    "\n",
    "\n",
    "\n",
    "\n",
    "\n",
    "\n",
    "\n",
    "\n",
    "\n",
    "Geometric shapes: Use this code with a decimal or hex reference number from here: UTF-8 Geometric shapes &#reference_number;\n",
    "\n",
    "Horizontal lines: Use three asterisks: ***\n",
    "\n",
    "Internal links: To link to a section, add an anchor above the section title and then create a link.\n",
    "\n",
    "Use this code to create an anchor: <a id=\"section_ID\"></a>\n",
    "Use this code to create the link: [section title](#section-ID)\n",
    "Make sure that the section_ID is unique within the notebook or readme.\n",
    "\n",
    "Alternatively, for notebooks you can skip creating anchors and use this code: [section title](#section-title)\n",
    "For the text in the parentheses, replace spaces and special characters with a hyphen and make all characters lowercase.\n",
    "\n",
    "Test all links!\n",
    "\n",
    "\n",
    "\n",
    "To create a link that opens in a new window or tab, use this code: <a href=\"http://url\" target=\"_blank\" rel=\"noopener noreferrer\">link text</a>\n",
    "\n",
    "Test all links!"
   ]
  }
 ],
 "metadata": {
  "kernelspec": {
   "display_name": "Python 3 (ipykernel)",
   "language": "python",
   "name": "python3"
  },
  "language_info": {
   "codemirror_mode": {
    "name": "ipython",
    "version": 3
   },
   "file_extension": ".py",
   "mimetype": "text/x-python",
   "name": "python",
   "nbconvert_exporter": "python",
   "pygments_lexer": "ipython3",
   "version": "3.11.5"
  }
 },
 "nbformat": 4,
 "nbformat_minor": 5
}
